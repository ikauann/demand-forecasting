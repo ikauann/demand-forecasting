{
  "nbformat": 4,
  "nbformat_minor": 0,
  "metadata": {
    "colab": {
      "provenance": [],
      "mount_file_id": "1K5oXvs2g7d2p4CWyBi--Il5jITHsb5jc",
      "authorship_tag": "ABX9TyPDQcoU/BTX6UQ2SelKsKH+"
    },
    "kernelspec": {
      "name": "python3",
      "display_name": "Python 3"
    },
    "language_info": {
      "name": "python"
    }
  },
  "cells": [
    {
      "cell_type": "markdown",
      "source": [
        "Objetivo:\n",
        "\n",
        "O objetivo deste projeto é construir um modelo que preveja as vendas das lojas do Walmart. Com esse modelo, os responsáveis podem planejar melhor o futuro, o que é vital para organizar estoques, calcular receitas e decidir sobre novos investimentos."
      ],
      "metadata": {
        "id": "uCCp2Z9o-DQJ"
      }
    },
    {
      "cell_type": "markdown",
      "source": [
        "Solução:\n",
        "\n",
        "Com previsões precisas, a empresa pode:\n",
        "\n",
        "- Determinar demandas sazonais e tomar medidas adequadas.\n",
        "- Proteger-se contra perdas financeiras, uma vez que atingir metas de vendas pode impactar positivamente os preços das ações e a percepção dos investidores.\n",
        "- Prever receitas de forma precisa.\n",
        "- Gerenciar inventários eficientemente.\n",
        "- Realizar campanhas de marketing mais eficazes."
      ],
      "metadata": {
        "id": "4bfRe2xf-J7b"
      }
    },
    {
      "cell_type": "markdown",
      "source": [
        "# IMPORTS"
      ],
      "metadata": {
        "id": "xYA1N-uzBDRT"
      }
    },
    {
      "cell_type": "code",
      "execution_count": 1,
      "metadata": {
        "id": "0SX0ca8d73X6"
      },
      "outputs": [],
      "source": [
        "import pandas as pd"
      ]
    },
    {
      "cell_type": "markdown",
      "source": [
        "## Loading Data"
      ],
      "metadata": {
        "id": "26X3xLmnBku6"
      }
    },
    {
      "cell_type": "code",
      "source": [
        "data_train = pd.read_csv('/content/drive/MyDrive/USP - GRADUAÇÃO /Projetos para Estagio/demand forecasting - Walmart/data/train.csv')\n",
        "data_features = pd.read_csv('/content/drive/MyDrive/USP - GRADUAÇÃO /Projetos para Estagio/demand forecasting - Walmart/data/features.csv')\n",
        "data_stores = pd.read_csv('/content/drive/MyDrive/USP - GRADUAÇÃO /Projetos para Estagio/demand forecasting - Walmart/data/stores.csv')\n",
        "data_test = pd.read_csv('/content/drive/MyDrive/USP - GRADUAÇÃO /Projetos para Estagio/demand forecasting - Walmart/data/test.csv')"
      ],
      "metadata": {
        "id": "Psb-gqmG8thT"
      },
      "execution_count": 15,
      "outputs": []
    },
    {
      "cell_type": "markdown",
      "source": [
        "# DATA DESCRIPTION"
      ],
      "metadata": {
        "id": "b9i9hEwTBqu-"
      }
    },
    {
      "cell_type": "markdown",
      "source": [
        "## Merge Columns"
      ],
      "metadata": {
        "id": "MPOWZd_UB3ke"
      }
    },
    {
      "cell_type": "code",
      "source": [
        "# Adicionar uma coluna para identificar o tipo de dataset\n",
        "data_train['Dataset'] = 'Train'\n",
        "data_test['Dataset'] = 'Test'\n",
        "\n",
        "# Combinar data_train e data_test\n",
        "combined_data = pd.concat([data_train, data_test], ignore_index=True)\n",
        "\n",
        "# Juntar combined_data com data_features baseado em Store e Date\n",
        "combined_data = pd.merge(combined_data, data_features, on=['Store', 'Date'], how='left')\n",
        "\n",
        "# Juntar combined_data com data_stores baseado em Store\n",
        "combined_data = pd.merge(combined_data, data_stores, on='Store', how='left')\n",
        "\n",
        "df1 = combined_data"
      ],
      "metadata": {
        "id": "NlL5GfS-_Pi9"
      },
      "execution_count": 25,
      "outputs": []
    },
    {
      "cell_type": "code",
      "source": [],
      "metadata": {
        "id": "rWlb3CtWA06V"
      },
      "execution_count": null,
      "outputs": []
    },
    {
      "cell_type": "markdown",
      "source": [
        "# Data Dimension\n",
        "\n",
        "### Formas de Lidar com Dados Ausentes (NAs):\n",
        "\n",
        "1. **Exclusão de NAs**:\n",
        "   - **Prós**: Rápido e fácil de implementar.\n",
        "   - **Contras**: Pode resultar em perda significativa de dados e introduzir viés na análise.\n",
        "\n",
        "2. **Preenchimento com Machine Learning**:\n",
        "   - **Prós**: Algoritmos podem prever e preencher valores ausentes com base em padrões, preservando mais dados.\n",
        "   - **Contras**: Requer conhecimento técnico e pode ser computacionalmente intensivo.\n",
        "\n",
        "3. **Abordagem Baseada no Negócio**:\n",
        "   - **Prós**: Decisões são tomadas com base nos objetivos e no contexto do negócio, permitindo soluções personalizadas.\n",
        "   - **Contras**: Pode ser demorado e exigir expertise específica."
      ],
      "metadata": {
        "id": "RiPIFDDSCBNq"
      }
    },
    {
      "cell_type": "code",
      "source": [
        "print(f'number of rows: {df1.shape[0]}')\n",
        "print(f'number of cols: {df1.shape[1]}')"
      ],
      "metadata": {
        "colab": {
          "base_uri": "https://localhost:8080/"
        },
        "id": "BkHqJ6HFCDTK",
        "outputId": "087494be-79d1-43c8-ced8-d867540a51e6"
      },
      "execution_count": 27,
      "outputs": [
        {
          "output_type": "stream",
          "name": "stdout",
          "text": [
            "number of rows: 536634\n",
            "number of cols: 18\n"
          ]
        }
      ]
    },
    {
      "cell_type": "markdown",
      "source": [
        "## Data Types"
      ],
      "metadata": {
        "id": "tbax3CVpCNZX"
      }
    },
    {
      "cell_type": "code",
      "source": [
        "df1.dtypes"
      ],
      "metadata": {
        "colab": {
          "base_uri": "https://localhost:8080/"
        },
        "id": "K9b1Fj9VCEei",
        "outputId": "953370d7-d805-486e-a152-6f5a25d0cb65"
      },
      "execution_count": 28,
      "outputs": [
        {
          "output_type": "execute_result",
          "data": {
            "text/plain": [
              "Store             int64\n",
              "Dept              int64\n",
              "Date             object\n",
              "Weekly_Sales    float64\n",
              "IsHoliday_x        bool\n",
              "Dataset          object\n",
              "Temperature     float64\n",
              "Fuel_Price      float64\n",
              "MarkDown1       float64\n",
              "MarkDown2       float64\n",
              "MarkDown3       float64\n",
              "MarkDown4       float64\n",
              "MarkDown5       float64\n",
              "CPI             float64\n",
              "Unemployment    float64\n",
              "IsHoliday_y        bool\n",
              "Type             object\n",
              "Size              int64\n",
              "dtype: object"
            ]
          },
          "metadata": {},
          "execution_count": 28
        }
      ]
    },
    {
      "cell_type": "markdown",
      "source": [
        "## Check NA"
      ],
      "metadata": {
        "id": "Hkm0eXXoEjHj"
      }
    },
    {
      "cell_type": "code",
      "source": [
        "df1.isna().sum()"
      ],
      "metadata": {
        "colab": {
          "base_uri": "https://localhost:8080/"
        },
        "id": "1Hs_fRO2DwtB",
        "outputId": "56825680-7cfd-475c-bb9a-87f44b64540f"
      },
      "execution_count": 29,
      "outputs": [
        {
          "output_type": "execute_result",
          "data": {
            "text/plain": [
              "Store                0\n",
              "Dept                 0\n",
              "Date                 0\n",
              "Weekly_Sales    115064\n",
              "IsHoliday_x          0\n",
              "Dataset              0\n",
              "Temperature          0\n",
              "Fuel_Price           0\n",
              "MarkDown1       271038\n",
              "MarkDown2       338949\n",
              "MarkDown3       294308\n",
              "MarkDown4       299491\n",
              "MarkDown5       270138\n",
              "CPI              38162\n",
              "Unemployment     38162\n",
              "IsHoliday_y          0\n",
              "Type                 0\n",
              "Size                 0\n",
              "dtype: int64"
            ]
          },
          "metadata": {},
          "execution_count": 29
        }
      ]
    },
    {
      "cell_type": "code",
      "source": [],
      "metadata": {
        "id": "YR-hFB7gEiR8"
      },
      "execution_count": null,
      "outputs": []
    }
  ]
}